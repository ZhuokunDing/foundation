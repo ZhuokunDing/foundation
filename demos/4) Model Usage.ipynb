{
 "cells": [
  {
   "cell_type": "markdown",
   "id": "d2eb10e3-ba29-4a4e-b5d6-780f733576d1",
   "metadata": {},
   "source": [
    "Here we will demonstrate how to generate dynamic responses to any arbitrary visual stimuli from a trained model\n",
    "\n",
    "---\n",
    "\n",
    "First, let's create a visual stimulus where we present 2 static images for 500 ms each. Before and after each image, we'll place blanks (gray screens)."
   ]
  },
  {
   "cell_type": "code",
   "execution_count": 1,
   "id": "123ea2e9-a2d5-4ea8-8020-85fc9c22d76b",
   "metadata": {
    "tags": []
   },
   "outputs": [
    {
     "name": "stdout",
     "output_type": "stream",
     "text": [
      "Connecting ewang@at-database.ad.bcm.edu:3306\n"
     ]
    },
    {
     "data": {
      "text/html": [
       "\n",
       "        \n",
       "        <style type=\"text/css\">\n",
       "            .Relation{\n",
       "                border-collapse:collapse;\n",
       "            }\n",
       "            .Relation th{\n",
       "                background: #A0A0A0; color: #ffffff; padding:4px; border:#f0e0e0 1px solid;\n",
       "                font-weight: normal; font-family: monospace; font-size: 100%;\n",
       "            }\n",
       "            .Relation td{\n",
       "                padding:4px; border:#f0e0e0 1px solid; font-size:100%;\n",
       "            }\n",
       "            .Relation tr:nth-child(odd){\n",
       "                background: #ffffff;\n",
       "            }\n",
       "            .Relation tr:nth-child(even){\n",
       "                background: #f3f1ff;\n",
       "            }\n",
       "            /* Tooltip container */\n",
       "            .djtooltip {\n",
       "            }\n",
       "            /* Tooltip text */\n",
       "            .djtooltip .djtooltiptext {\n",
       "                visibility: hidden;\n",
       "                width: 120px;\n",
       "                background-color: black;\n",
       "                color: #fff;\n",
       "                text-align: center;\n",
       "                padding: 5px 0;\n",
       "                border-radius: 6px;\n",
       "                /* Position the tooltip text - see examples below! */\n",
       "                position: absolute;\n",
       "                z-index: 1;\n",
       "            }\n",
       "            #primary {\n",
       "                font-weight: bold;\n",
       "                color: black;\n",
       "            }\n",
       "\n",
       "            #nonprimary {\n",
       "                font-weight: normal;\n",
       "                color: white;\n",
       "            }\n",
       "\n",
       "            /* Show the tooltip text when you mouse over the tooltip container */\n",
       "            .djtooltip:hover .djtooltiptext {\n",
       "                visibility: visible;\n",
       "            }\n",
       "        </style>\n",
       "        \n",
       "        <b></b>\n",
       "            <div style=\"max-height:1000px;max-width:1500px;overflow:auto;\">\n",
       "            <table border=\"1\" class=\"Relation\">\n",
       "                <thead> <tr style=\"text-align: right;\"> <th> <div class=\"djtooltip\">\n",
       "                                <p id=\"primary\">image_class</p>\n",
       "                                <span class=\"djtooltiptext\"></span>\n",
       "                            </div></th><th><div class=\"djtooltip\">\n",
       "                                <p id=\"primary\">image_id</p>\n",
       "                                <span class=\"djtooltiptext\">image id</span>\n",
       "                            </div></th><th><div class=\"djtooltip\">\n",
       "                                <p id=\"nonprimary\">image</p>\n",
       "                                <span class=\"djtooltiptext\">actual image</span>\n",
       "                            </div> </th> </tr> </thead>\n",
       "                <tbody> <tr> <td>imagenet</td>\n",
       "<td>0</td>\n",
       "<td>=BLOB=</td></tr><tr><td>imagenet</td>\n",
       "<td>1</td>\n",
       "<td>=BLOB=</td> </tr> </tbody>\n",
       "            </table>\n",
       "            \n",
       "            <p>Total: 2</p></div>\n",
       "            "
      ],
      "text/plain": [
       "*image_class   *image_id    image     \n",
       "+------------+ +----------+ +--------+\n",
       "imagenet       0            =BLOB=    \n",
       "imagenet       1            =BLOB=    \n",
       " (Total: 2)"
      ]
     },
     "execution_count": 1,
     "metadata": {},
     "output_type": "execute_result"
    }
   ],
   "source": [
    "# Let's load some example images from the upstream pipeline\n",
    "\n",
    "import numpy as np\n",
    "from foundation.virtual.bridge import pipe_stim\n",
    "\n",
    "images = pipe_stim.StaticImage.Image & 'image_class=\"imagenet\" and image_id in (0, 1)'\n",
    "images"
   ]
  },
  {
   "cell_type": "code",
   "execution_count": 2,
   "id": "8269d3de-3e8b-46dd-8bc4-4e7b6a25a7a3",
   "metadata": {
    "tags": []
   },
   "outputs": [
    {
     "data": {
      "text/plain": [
       "(2, 144, 256)"
      ]
     },
     "execution_count": 2,
     "metadata": {},
     "output_type": "execute_result"
    }
   ],
   "source": [
    "# ...and fetch those image arrays\n",
    "\n",
    "images = images.fetch(\"image\", order_by=images.primary_key)\n",
    "images = np.stack(images, axis=0)\n",
    "images.shape"
   ]
  },
  {
   "cell_type": "code",
   "execution_count": 3,
   "id": "93d9a04c-5d17-4626-849d-e12db5526645",
   "metadata": {
    "tags": []
   },
   "outputs": [],
   "source": [
    "# Let's create 5 frames and times for the images and blanks\n",
    "\n",
    "# 5 frames -- (144 x 256)\n",
    "frames = np.full([5, 144, 256], 128, dtype=np.uint8) \n",
    "\n",
    "# 1st frame at 0s, 2nd at 0.5s, 3rd at 1s, etc..\n",
    "times = [0, 0.5, 1, 1.5, 2] \n",
    "\n",
    "# ...and let's insert our images into the 2nd and 4th frames\n",
    "frames[1] = images[0]\n",
    "frames[3] = images[1]"
   ]
  },
  {
   "cell_type": "code",
   "execution_count": 4,
   "id": "1ef93914-58ad-4b38-a690-93d727f52f10",
   "metadata": {
    "tags": []
   },
   "outputs": [],
   "source": [
    "# Finally, let's create a video from those frames\n",
    "\n",
    "from foundation.utils.video import Video\n",
    "\n",
    "video = Video.fromarray(frames, times=times)"
   ]
  },
  {
   "cell_type": "code",
   "execution_count": null,
   "id": "94029370-2f22-41d8-9fcf-da6317b85796",
   "metadata": {
    "tags": []
   },
   "outputs": [],
   "source": [
    "# This will animate the video and display it in the jupyter notebook\n",
    "\n",
    "video.animate()"
   ]
  },
  {
   "cell_type": "markdown",
   "id": "05699556-b1a6-4f9f-85b6-7c9a113c5bbe",
   "metadata": {},
   "source": [
    "---\n",
    "\n",
    "Now that we have a video to present a model, let's load up an example model. A model is specified by 3 things:\n",
    "- `data_id` (stimuli, responses, etc.. used to train the model)\n",
    "- `network_id` (neural network architecture)\n",
    "- `instance_id` (training/instantiation method)"
   ]
  },
  {
   "cell_type": "code",
   "execution_count": 5,
   "id": "e386e61e-de8b-4be9-b04a-1e26bf35bf59",
   "metadata": {
    "tags": []
   },
   "outputs": [],
   "source": [
    "# This is the key for an example model\n",
    "\n",
    "key = {\n",
    "    \"data_id\": \"ee8e6dfc05a126b4e5837dc4c65d94f1\",\n",
    "    'network_id': \"c552b6fe7026bf4d2b2883e95b2eea79\",\n",
    "    \"instance_id\": \"62d795a533a01cbdfc13d9c760cae29c\",\n",
    "}"
   ]
  },
  {
   "cell_type": "code",
   "execution_count": 6,
   "id": "145a3410-2f6c-4f2e-aa20-2c8f9ba9dbb7",
   "metadata": {
    "tags": []
   },
   "outputs": [
    {
     "data": {
      "text/plain": [
       "0.03333333333333333"
      ]
     },
     "execution_count": 6,
     "metadata": {},
     "output_type": "execute_result"
    }
   ],
   "source": [
    "# Using the `data_id`, let's load up information about the data such as sampling period (in seconds)\n",
    "\n",
    "from foundation.fnn.data import Data\n",
    "\n",
    "period = (Data & key).link.compute.sampling_period\n",
    "period"
   ]
  },
  {
   "cell_type": "code",
   "execution_count": 7,
   "id": "2646cd15-2af8-4916-ae4d-fa6252f48aed",
   "metadata": {
    "tags": []
   },
   "outputs": [
    {
     "data": {
      "text/plain": [
       "0.0"
      ]
     },
     "execution_count": 7,
     "metadata": {},
     "output_type": "execute_result"
    }
   ],
   "source": [
    "# ...and the offset (in seconds) of the neuronal/unit response\n",
    "\n",
    "offset = (Data & key).link.compute.unit_offset\n",
    "offset"
   ]
  },
  {
   "cell_type": "code",
   "execution_count": 8,
   "id": "0b7ef035-52e7-4a7c-8348-a528f4c9f06f",
   "metadata": {
    "tags": []
   },
   "outputs": [
    {
     "data": {
      "text/plain": [
       "(144, 256)"
      ]
     },
     "execution_count": 8,
     "metadata": {},
     "output_type": "execute_result"
    }
   ],
   "source": [
    "# ...and stimulus resolution (in pixels)\n",
    "\n",
    "height, width = (Data & key).link.compute.resolution\n",
    "height, width"
   ]
  },
  {
   "cell_type": "code",
   "execution_count": 9,
   "id": "d85260dc-1b52-452e-9387-993f4d1c4100",
   "metadata": {
    "tags": []
   },
   "outputs": [
    {
     "data": {
      "text/plain": [
       "'9b07f7038587b888bc1312559f48d163'"
      ]
     },
     "execution_count": 9,
     "metadata": {},
     "output_type": "execute_result"
    }
   ],
   "source": [
    "# ...and the method for stimulus resizing\n",
    "\n",
    "resize_id = (Data & key).link.compute.resize_id\n",
    "resize_id"
   ]
  },
  {
   "cell_type": "code",
   "execution_count": 10,
   "id": "a5bf1055-6257-429a-aa4d-581c1bb487a5",
   "metadata": {
    "tags": []
   },
   "outputs": [
    {
     "data": {
      "text/plain": [
       "(144, 256)"
      ]
     },
     "execution_count": 10,
     "metadata": {},
     "output_type": "execute_result"
    }
   ],
   "source": [
    "# And we'll resize our video to the appropriate height and width for our model\n",
    "\n",
    "from foundation.utility.resize import Resize\n",
    "\n",
    "rkey = {\"resize_id\": resize_id}\n",
    "rvideo = (Resize & rkey).link.resize(video=video, height=height, width=width)\n",
    "\n",
    "# the resized video's height and width\n",
    "rvideo.height, rvideo.width"
   ]
  },
  {
   "cell_type": "code",
   "execution_count": 11,
   "id": "48a8e767-09b9-4b2a-85d7-c849812e6f27",
   "metadata": {
    "tags": []
   },
   "outputs": [],
   "source": [
    "# Now that we have a stimulus to present to our model, let's load the actual model using the GPU (cuda)\n",
    "\n",
    "from foundation.fnn.model import Model\n",
    "\n",
    "model = (Model & key).model(device=\"cuda\")"
   ]
  },
  {
   "cell_type": "code",
   "execution_count": 12,
   "id": "8a69ba0e-defd-4420-bbcf-826b8dcdffd4",
   "metadata": {
    "tags": []
   },
   "outputs": [],
   "source": [
    "# With the resized video, let's create a stimulus generator\n",
    "\n",
    "stimuli = rvideo.generate(period=period)"
   ]
  },
  {
   "cell_type": "code",
   "execution_count": 13,
   "id": "cd3b7104-d21c-4bdb-95e7-275ce4646d43",
   "metadata": {
    "tags": []
   },
   "outputs": [
    {
     "name": "stderr",
     "output_type": "stream",
     "text": [
      "Video Frames: 100% 61/61 [00:00<00:00, 87.71it/s] \n"
     ]
    }
   ],
   "source": [
    "# And we'll feed that to our model, collecting responses in a list\n",
    "\n",
    "responses = []\n",
    "\n",
    "for r in model.generate_response(stimuli=stimuli):\n",
    "    \n",
    "    responses.append(r)"
   ]
  },
  {
   "cell_type": "code",
   "execution_count": 14,
   "id": "d4e7911c-8152-453b-b0f7-6ed7dccb863d",
   "metadata": {
    "tags": []
   },
   "outputs": [
    {
     "data": {
      "text/plain": [
       "(61, 8509)"
      ]
     },
     "execution_count": 14,
     "metadata": {},
     "output_type": "execute_result"
    }
   ],
   "source": [
    "# Let's stack those responses in a 2D matrix\n",
    "\n",
    "responses = np.stack(responses, axis=0)\n",
    "responses.shape"
   ]
  },
  {
   "cell_type": "code",
   "execution_count": 15,
   "id": "837d30f1-8b2d-46ff-9ade-2099134b4f87",
   "metadata": {
    "tags": []
   },
   "outputs": [],
   "source": [
    "# This is the shape of our matrix\n",
    "\n",
    "frames, units = responses.shape"
   ]
  },
  {
   "cell_type": "code",
   "execution_count": 16,
   "id": "b896025a-eba9-4f53-b494-da5b37ad9d3f",
   "metadata": {
    "tags": []
   },
   "outputs": [],
   "source": [
    "# Since we have the number of frames, the sampling period and offset, \n",
    "# we know the timing of the response\n",
    "\n",
    "response_times = np.arange(frames) * period + offset"
   ]
  },
  {
   "cell_type": "code",
   "execution_count": 17,
   "id": "050cfc47-9272-4f80-a759-11bc06acf2e7",
   "metadata": {
    "tags": []
   },
   "outputs": [
    {
     "data": {
      "image/png": "[encoded data removed]",
      "text/plain": [
       "<Figure size 640x480 with 1 Axes>"
      ]
     },
     "metadata": {},
     "output_type": "display_data"
    }
   ],
   "source": [
    "# Let's plot the response for one of neurons/units\n",
    "\n",
    "from matplotlib import pyplot as plt\n",
    "\n",
    "# Let's select the 11th (index=10) unit and plot its response\n",
    "unit_repsonse = responses[:, 10]\n",
    "plt.plot(response_times, unit_repsonse, c='blue')\n",
    "\n",
    "# We'll also plot the onset times of each of stimulus frames\n",
    "for stim_time in video.times:\n",
    "    plt.axvline(stim_time, c='red')\n",
    "    \n",
    "plt.xlabel(\"Time (seconds)\")\n",
    "plt.ylabel(\"Response (au)\")\n",
    "plt.show()"
   ]
  }
 ],
 "metadata": {
  "kernelspec": {
   "display_name": "Python 3 (ipykernel)",
   "language": "python",
   "name": "python3"
  },
  "language_info": {
   "codemirror_mode": {
    "name": "ipython",
    "version": 3
   },
   "file_extension": ".py",
   "mimetype": "text/x-python",
   "name": "python",
   "nbconvert_exporter": "python",
   "pygments_lexer": "ipython3",
   "version": "3.8.16"
  }
 },
 "nbformat": 4,
 "nbformat_minor": 5
}
