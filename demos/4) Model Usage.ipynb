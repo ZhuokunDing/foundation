{
 "cells": [
  {
   "cell_type": "markdown",
   "id": "d2eb10e3-ba29-4a4e-b5d6-780f733576d1",
   "metadata": {},
   "source": [
    "Here we will demonstrate how to generate dynamic responses to any arbitrary visual stimuli from a trained model\n",
    "\n",
    "---\n",
    "\n",
    "First, let's create a visual stimulus where we present 2 static images for 500 ms each. Before and after each image, we'll place blanks (gray screens)."
   ]
  },
  {
   "cell_type": "code",
   "execution_count": 1,
   "id": "123ea2e9-a2d5-4ea8-8020-85fc9c22d76b",
   "metadata": {
    "tags": []
   },
   "outputs": [
    {
     "name": "stdout",
     "output_type": "stream",
     "text": [
      "Connecting ewang@at-database.ad.bcm.edu:3306\n"
     ]
    },
    {
     "data": {
      "text/html": [
       "\n",
       "        \n",
       "        <style type=\"text/css\">\n",
       "            .Relation{\n",
       "                border-collapse:collapse;\n",
       "            }\n",
       "            .Relation th{\n",
       "                background: #A0A0A0; color: #ffffff; padding:4px; border:#f0e0e0 1px solid;\n",
       "                font-weight: normal; font-family: monospace; font-size: 100%;\n",
       "            }\n",
       "            .Relation td{\n",
       "                padding:4px; border:#f0e0e0 1px solid; font-size:100%;\n",
       "            }\n",
       "            .Relation tr:nth-child(odd){\n",
       "                background: #ffffff;\n",
       "            }\n",
       "            .Relation tr:nth-child(even){\n",
       "                background: #f3f1ff;\n",
       "            }\n",
       "            /* Tooltip container */\n",
       "            .djtooltip {\n",
       "            }\n",
       "            /* Tooltip text */\n",
       "            .djtooltip .djtooltiptext {\n",
       "                visibility: hidden;\n",
       "                width: 120px;\n",
       "                background-color: black;\n",
       "                color: #fff;\n",
       "                text-align: center;\n",
       "                padding: 5px 0;\n",
       "                border-radius: 6px;\n",
       "                /* Position the tooltip text - see examples below! */\n",
       "                position: absolute;\n",
       "                z-index: 1;\n",
       "            }\n",
       "            #primary {\n",
       "                font-weight: bold;\n",
       "                color: black;\n",
       "            }\n",
       "\n",
       "            #nonprimary {\n",
       "                font-weight: normal;\n",
       "                color: white;\n",
       "            }\n",
       "\n",
       "            /* Show the tooltip text when you mouse over the tooltip container */\n",
       "            .djtooltip:hover .djtooltiptext {\n",
       "                visibility: visible;\n",
       "            }\n",
       "        </style>\n",
       "        \n",
       "        <b></b>\n",
       "            <div style=\"max-height:1000px;max-width:1500px;overflow:auto;\">\n",
       "            <table border=\"1\" class=\"Relation\">\n",
       "                <thead> <tr style=\"text-align: right;\"> <th> <div class=\"djtooltip\">\n",
       "                                <p id=\"primary\">image_class</p>\n",
       "                                <span class=\"djtooltiptext\"></span>\n",
       "                            </div></th><th><div class=\"djtooltip\">\n",
       "                                <p id=\"primary\">image_id</p>\n",
       "                                <span class=\"djtooltiptext\">image id</span>\n",
       "                            </div></th><th><div class=\"djtooltip\">\n",
       "                                <p id=\"nonprimary\">image</p>\n",
       "                                <span class=\"djtooltiptext\">actual image</span>\n",
       "                            </div> </th> </tr> </thead>\n",
       "                <tbody> <tr> <td>imagenet</td>\n",
       "<td>0</td>\n",
       "<td>=BLOB=</td></tr><tr><td>imagenet</td>\n",
       "<td>1</td>\n",
       "<td>=BLOB=</td> </tr> </tbody>\n",
       "            </table>\n",
       "            \n",
       "            <p>Total: 2</p></div>\n",
       "            "
      ],
      "text/plain": [
       "*image_class   *image_id    image     \n",
       "+------------+ +----------+ +--------+\n",
       "imagenet       0            =BLOB=    \n",
       "imagenet       1            =BLOB=    \n",
       " (Total: 2)"
      ]
     },
     "execution_count": 1,
     "metadata": {},
     "output_type": "execute_result"
    }
   ],
   "source": [
    "# Let's load some example images from the upstream pipeline\n",
    "\n",
    "import numpy as np\n",
    "from foundation.virtual.bridge import pipe_stim\n",
    "\n",
    "images = pipe_stim.StaticImage.Image & 'image_class=\"imagenet\" and image_id in (0, 1)'\n",
    "images"
   ]
  },
  {
   "cell_type": "code",
   "execution_count": 2,
   "id": "8269d3de-3e8b-46dd-8bc4-4e7b6a25a7a3",
   "metadata": {
    "tags": []
   },
   "outputs": [
    {
     "data": {
      "text/plain": [
       "(2, 144, 256)"
      ]
     },
     "execution_count": 2,
     "metadata": {},
     "output_type": "execute_result"
    }
   ],
   "source": [
    "# ...and fetch those image arrays\n",
    "\n",
    "images = images.fetch(\"image\", order_by=images.primary_key)\n",
    "images = np.stack(images, axis=0)\n",
    "images.shape"
   ]
  },
  {
   "cell_type": "code",
   "execution_count": 3,
   "id": "93d9a04c-5d17-4626-849d-e12db5526645",
   "metadata": {
    "tags": []
   },
   "outputs": [],
   "source": [
    "# Let's create 5 frames and times for the images and blanks\n",
    "\n",
    "# 5 frames -- (144 x 256)\n",
    "frames = np.full([5, 144, 256], 128, dtype=np.uint8) \n",
    "\n",
    "# 1st frame at 0s, 2nd at 0.5s, 3rd at 1s, etc..\n",
    "times = [0, 0.5, 1, 1.5, 2] \n",
    "\n",
    "# ...and let's insert our images into the 2nd and 4th frames\n",
    "frames[1] = images[0]\n",
    "frames[3] = images[1]"
   ]
  },
  {
   "cell_type": "code",
   "execution_count": 4,
   "id": "1ef93914-58ad-4b38-a690-93d727f52f10",
   "metadata": {
    "tags": []
   },
   "outputs": [],
   "source": [
    "# Finally, let's create a video from those frames\n",
    "\n",
    "from foundation.utils.video import Video\n",
    "\n",
    "video = Video.fromarray(frames, times=times)"
   ]
  },
  {
   "cell_type": "code",
   "execution_count": null,
   "id": "94029370-2f22-41d8-9fcf-da6317b85796",
   "metadata": {
    "tags": []
   },
   "outputs": [],
   "source": [
    "# This will animate the video and display it in the jupyter notebook\n",
    "\n",
    "video.animate()"
   ]
  },
  {
   "cell_type": "markdown",
   "id": "05699556-b1a6-4f9f-85b6-7c9a113c5bbe",
   "metadata": {},
   "source": [
    "---\n",
    "\n",
    "Now that we have a video to present a model, let's load up an example model. For this demonstration, we will use `{'network_id': '650e0507177f51934eae82f8c8730374', 'model_id': 'b067a83e1e851c4433cbfb512e58a7bb'}`"
   ]
  },
  {
   "cell_type": "code",
   "execution_count": 5,
   "id": "e386e61e-de8b-4be9-b04a-1e26bf35bf59",
   "metadata": {
    "tags": []
   },
   "outputs": [],
   "source": [
    "# This is the key for that example model\n",
    "\n",
    "key = {\n",
    "    'network_id': '650e0507177f51934eae82f8c8730374',\n",
    "    'model_id': 'b067a83e1e851c4433cbfb512e58a7bb'\n",
    "}"
   ]
  },
  {
   "cell_type": "code",
   "execution_count": 6,
   "id": "9cb3548b-5834-46b5-9a3d-63f2ee6af561",
   "metadata": {
    "tags": []
   },
   "outputs": [
    {
     "data": {
      "text/html": [
       "\n",
       "        \n",
       "        <style type=\"text/css\">\n",
       "            .Relation{\n",
       "                border-collapse:collapse;\n",
       "            }\n",
       "            .Relation th{\n",
       "                background: #A0A0A0; color: #ffffff; padding:4px; border:#f0e0e0 1px solid;\n",
       "                font-weight: normal; font-family: monospace; font-size: 100%;\n",
       "            }\n",
       "            .Relation td{\n",
       "                padding:4px; border:#f0e0e0 1px solid; font-size:100%;\n",
       "            }\n",
       "            .Relation tr:nth-child(odd){\n",
       "                background: #ffffff;\n",
       "            }\n",
       "            .Relation tr:nth-child(even){\n",
       "                background: #f3f1ff;\n",
       "            }\n",
       "            /* Tooltip container */\n",
       "            .djtooltip {\n",
       "            }\n",
       "            /* Tooltip text */\n",
       "            .djtooltip .djtooltiptext {\n",
       "                visibility: hidden;\n",
       "                width: 120px;\n",
       "                background-color: black;\n",
       "                color: #fff;\n",
       "                text-align: center;\n",
       "                padding: 5px 0;\n",
       "                border-radius: 6px;\n",
       "                /* Position the tooltip text - see examples below! */\n",
       "                position: absolute;\n",
       "                z-index: 1;\n",
       "            }\n",
       "            #primary {\n",
       "                font-weight: bold;\n",
       "                color: black;\n",
       "            }\n",
       "\n",
       "            #nonprimary {\n",
       "                font-weight: normal;\n",
       "                color: white;\n",
       "            }\n",
       "\n",
       "            /* Show the tooltip text when you mouse over the tooltip container */\n",
       "            .djtooltip:hover .djtooltiptext {\n",
       "                visibility: visible;\n",
       "            }\n",
       "        </style>\n",
       "        \n",
       "        <b></b>\n",
       "            <div style=\"max-height:1000px;max-width:1500px;overflow:auto;\">\n",
       "            <table border=\"1\" class=\"Relation\">\n",
       "                <thead> <tr style=\"text-align: right;\"> <th> <div class=\"djtooltip\">\n",
       "                                <p id=\"primary\">network_id</p>\n",
       "                                <span class=\"djtooltiptext\">neural network</span>\n",
       "                            </div></th><th><div class=\"djtooltip\">\n",
       "                                <p id=\"nonprimary\">network_type</p>\n",
       "                                <span class=\"djtooltiptext\">network type</span>\n",
       "                            </div></th><th><div class=\"djtooltip\">\n",
       "                                <p id=\"nonprimary\">network_ts</p>\n",
       "                                <span class=\"djtooltiptext\">automatic timestamp</span>\n",
       "                            </div> </th> </tr> </thead>\n",
       "                <tbody> <tr> <td>650e0507177f51934eae82f8c8730374</td>\n",
       "<td>VisualNetwork</td>\n",
       "<td>2023-07-17 19:32:24</td> </tr> </tbody>\n",
       "            </table>\n",
       "            \n",
       "            <p>Total: 1</p></div>\n",
       "            "
      ],
      "text/plain": [
       "*network_id    network_type   network_ts    \n",
       "+------------+ +------------+ +------------+\n",
       "650e0507177f51 VisualNetwork  2023-07-17 19:\n",
       " (Total: 1)"
      ]
     },
     "execution_count": 6,
     "metadata": {},
     "output_type": "execute_result"
    }
   ],
   "source": [
    "# This is the corresponding row in the `Network` link table...\n",
    "\n",
    "from foundation.fnn.network import Network\n",
    "\n",
    "Network & key"
   ]
  },
  {
   "cell_type": "code",
   "execution_count": 7,
   "id": "4acf8072-124c-4254-9841-ec0ac7c74ac0",
   "metadata": {
    "tags": []
   },
   "outputs": [
    {
     "data": {
      "text/html": [
       "\n",
       "        \n",
       "        <style type=\"text/css\">\n",
       "            .Relation{\n",
       "                border-collapse:collapse;\n",
       "            }\n",
       "            .Relation th{\n",
       "                background: #A0A0A0; color: #ffffff; padding:4px; border:#f0e0e0 1px solid;\n",
       "                font-weight: normal; font-family: monospace; font-size: 100%;\n",
       "            }\n",
       "            .Relation td{\n",
       "                padding:4px; border:#f0e0e0 1px solid; font-size:100%;\n",
       "            }\n",
       "            .Relation tr:nth-child(odd){\n",
       "                background: #ffffff;\n",
       "            }\n",
       "            .Relation tr:nth-child(even){\n",
       "                background: #f3f1ff;\n",
       "            }\n",
       "            /* Tooltip container */\n",
       "            .djtooltip {\n",
       "            }\n",
       "            /* Tooltip text */\n",
       "            .djtooltip .djtooltiptext {\n",
       "                visibility: hidden;\n",
       "                width: 120px;\n",
       "                background-color: black;\n",
       "                color: #fff;\n",
       "                text-align: center;\n",
       "                padding: 5px 0;\n",
       "                border-radius: 6px;\n",
       "                /* Position the tooltip text - see examples below! */\n",
       "                position: absolute;\n",
       "                z-index: 1;\n",
       "            }\n",
       "            #primary {\n",
       "                font-weight: bold;\n",
       "                color: black;\n",
       "            }\n",
       "\n",
       "            #nonprimary {\n",
       "                font-weight: normal;\n",
       "                color: white;\n",
       "            }\n",
       "\n",
       "            /* Show the tooltip text when you mouse over the tooltip container */\n",
       "            .djtooltip:hover .djtooltiptext {\n",
       "                visibility: visible;\n",
       "            }\n",
       "        </style>\n",
       "        \n",
       "        <b></b>\n",
       "            <div style=\"max-height:1000px;max-width:1500px;overflow:auto;\">\n",
       "            <table border=\"1\" class=\"Relation\">\n",
       "                <thead> <tr style=\"text-align: right;\"> <th> <div class=\"djtooltip\">\n",
       "                                <p id=\"primary\">model_id</p>\n",
       "                                <span class=\"djtooltiptext\">neural network model</span>\n",
       "                            </div></th><th><div class=\"djtooltip\">\n",
       "                                <p id=\"nonprimary\">model_type</p>\n",
       "                                <span class=\"djtooltiptext\">model type</span>\n",
       "                            </div></th><th><div class=\"djtooltip\">\n",
       "                                <p id=\"nonprimary\">model_ts</p>\n",
       "                                <span class=\"djtooltiptext\">automatic timestamp</span>\n",
       "                            </div> </th> </tr> </thead>\n",
       "                <tbody> <tr> <td>b067a83e1e851c4433cbfb512e58a7bb</td>\n",
       "<td>Instance</td>\n",
       "<td>2023-07-21 08:14:13</td> </tr> </tbody>\n",
       "            </table>\n",
       "            \n",
       "            <p>Total: 1</p></div>\n",
       "            "
      ],
      "text/plain": [
       "*model_id      model_type     model_ts      \n",
       "+------------+ +------------+ +------------+\n",
       "b067a83e1e851c Instance       2023-07-21 08:\n",
       " (Total: 1)"
      ]
     },
     "execution_count": 7,
     "metadata": {},
     "output_type": "execute_result"
    }
   ],
   "source": [
    "# ...and the `Model` link table\n",
    "\n",
    "from foundation.fnn.model import Model\n",
    "\n",
    "Model & key"
   ]
  },
  {
   "cell_type": "code",
   "execution_count": 8,
   "id": "7effe72a-09a8-4f8a-8e1e-e302232a66bc",
   "metadata": {
    "tags": []
   },
   "outputs": [
    {
     "data": {
      "text/plain": [
       "'02ca654b280828eca0241247f4e7e9f0'"
      ]
     },
     "execution_count": 8,
     "metadata": {},
     "output_type": "execute_result"
    }
   ],
   "source": [
    "# This is how to get the data identifier for this network\n",
    "\n",
    "data_id = (Network & key).link.data_id\n",
    "data_id"
   ]
  },
  {
   "cell_type": "code",
   "execution_count": 9,
   "id": "ac94a33b-71ad-48ef-9690-d785202d5d48",
   "metadata": {
    "tags": []
   },
   "outputs": [
    {
     "data": {
      "text/html": [
       "\n",
       "        \n",
       "        <style type=\"text/css\">\n",
       "            .Relation{\n",
       "                border-collapse:collapse;\n",
       "            }\n",
       "            .Relation th{\n",
       "                background: #A0A0A0; color: #ffffff; padding:4px; border:#f0e0e0 1px solid;\n",
       "                font-weight: normal; font-family: monospace; font-size: 100%;\n",
       "            }\n",
       "            .Relation td{\n",
       "                padding:4px; border:#f0e0e0 1px solid; font-size:100%;\n",
       "            }\n",
       "            .Relation tr:nth-child(odd){\n",
       "                background: #ffffff;\n",
       "            }\n",
       "            .Relation tr:nth-child(even){\n",
       "                background: #f3f1ff;\n",
       "            }\n",
       "            /* Tooltip container */\n",
       "            .djtooltip {\n",
       "            }\n",
       "            /* Tooltip text */\n",
       "            .djtooltip .djtooltiptext {\n",
       "                visibility: hidden;\n",
       "                width: 120px;\n",
       "                background-color: black;\n",
       "                color: #fff;\n",
       "                text-align: center;\n",
       "                padding: 5px 0;\n",
       "                border-radius: 6px;\n",
       "                /* Position the tooltip text - see examples below! */\n",
       "                position: absolute;\n",
       "                z-index: 1;\n",
       "            }\n",
       "            #primary {\n",
       "                font-weight: bold;\n",
       "                color: black;\n",
       "            }\n",
       "\n",
       "            #nonprimary {\n",
       "                font-weight: normal;\n",
       "                color: white;\n",
       "            }\n",
       "\n",
       "            /* Show the tooltip text when you mouse over the tooltip container */\n",
       "            .djtooltip:hover .djtooltiptext {\n",
       "                visibility: visible;\n",
       "            }\n",
       "        </style>\n",
       "        \n",
       "        <b></b>\n",
       "            <div style=\"max-height:1000px;max-width:1500px;overflow:auto;\">\n",
       "            <table border=\"1\" class=\"Relation\">\n",
       "                <thead> <tr style=\"text-align: right;\"> <th> <div class=\"djtooltip\">\n",
       "                                <p id=\"primary\">data_id</p>\n",
       "                                <span class=\"djtooltiptext\">network data</span>\n",
       "                            </div></th><th><div class=\"djtooltip\">\n",
       "                                <p id=\"nonprimary\">data_type</p>\n",
       "                                <span class=\"djtooltiptext\">data type</span>\n",
       "                            </div></th><th><div class=\"djtooltip\">\n",
       "                                <p id=\"nonprimary\">data_ts</p>\n",
       "                                <span class=\"djtooltiptext\">automatic timestamp</span>\n",
       "                            </div> </th> </tr> </thead>\n",
       "                <tbody> <tr> <td>02ca654b280828eca0241247f4e7e9f0</td>\n",
       "<td>VisualScan</td>\n",
       "<td>2023-06-15 15:17:45</td> </tr> </tbody>\n",
       "            </table>\n",
       "            \n",
       "            <p>Total: 1</p></div>\n",
       "            "
      ],
      "text/plain": [
       "*data_id       data_type      data_ts       \n",
       "+------------+ +------------+ +------------+\n",
       "02ca654b280828 VisualScan     2023-06-15 15:\n",
       " (Total: 1)"
      ]
     },
     "execution_count": 9,
     "metadata": {},
     "output_type": "execute_result"
    }
   ],
   "source": [
    "# That is used to restrict the `Data` link table\n",
    "\n",
    "from foundation.fnn.data import Data\n",
    "\n",
    "data = Data & {\"data_id\": data_id}\n",
    "data"
   ]
  },
  {
   "cell_type": "code",
   "execution_count": 10,
   "id": "1514751a-8641-40e6-b608-dffe5a6fa58f",
   "metadata": {
    "tags": []
   },
   "outputs": [
    {
     "data": {
      "text/plain": [
       "0.03333333333333333"
      ]
     },
     "execution_count": 10,
     "metadata": {},
     "output_type": "execute_result"
    }
   ],
   "source": [
    "# From that data link, we can get the sampling period (in seconds)\n",
    "\n",
    "period = data.link.compute.sampling_period\n",
    "period"
   ]
  },
  {
   "cell_type": "code",
   "execution_count": 11,
   "id": "ec7f0a4c-db8a-46b2-8c4e-3b170ce41336",
   "metadata": {
    "tags": []
   },
   "outputs": [
    {
     "data": {
      "text/plain": [
       "0.0"
      ]
     },
     "execution_count": 11,
     "metadata": {},
     "output_type": "execute_result"
    }
   ],
   "source": [
    "# ...and response offset (in seconds)\n",
    "\n",
    "offset = data.link.compute.unit_offset\n",
    "offset"
   ]
  },
  {
   "cell_type": "code",
   "execution_count": 12,
   "id": "03f9070f-97b7-4b40-954e-909b322547ae",
   "metadata": {
    "tags": []
   },
   "outputs": [
    {
     "data": {
      "text/plain": [
       "(144, 256)"
      ]
     },
     "execution_count": 12,
     "metadata": {},
     "output_type": "execute_result"
    }
   ],
   "source": [
    "# ...and stimulus resolution (in pixels)\n",
    "\n",
    "height, width = data.link.compute.resolution\n",
    "height, width"
   ]
  },
  {
   "cell_type": "code",
   "execution_count": 13,
   "id": "d74c3167-6bc1-460b-8291-0fcad75f6450",
   "metadata": {
    "tags": []
   },
   "outputs": [
    {
     "data": {
      "text/plain": [
       "'9b07f7038587b888bc1312559f48d163'"
      ]
     },
     "execution_count": 13,
     "metadata": {},
     "output_type": "execute_result"
    }
   ],
   "source": [
    "# ...and resizing method identifier\n",
    "\n",
    "resize_id = data.link.compute.resize_id\n",
    "resize_id"
   ]
  },
  {
   "cell_type": "code",
   "execution_count": 14,
   "id": "8d433dfd-554e-48e5-93e9-5f529b2c0504",
   "metadata": {
    "tags": []
   },
   "outputs": [
    {
     "data": {
      "text/html": [
       "\n",
       "        \n",
       "        <style type=\"text/css\">\n",
       "            .Relation{\n",
       "                border-collapse:collapse;\n",
       "            }\n",
       "            .Relation th{\n",
       "                background: #A0A0A0; color: #ffffff; padding:4px; border:#f0e0e0 1px solid;\n",
       "                font-weight: normal; font-family: monospace; font-size: 100%;\n",
       "            }\n",
       "            .Relation td{\n",
       "                padding:4px; border:#f0e0e0 1px solid; font-size:100%;\n",
       "            }\n",
       "            .Relation tr:nth-child(odd){\n",
       "                background: #ffffff;\n",
       "            }\n",
       "            .Relation tr:nth-child(even){\n",
       "                background: #f3f1ff;\n",
       "            }\n",
       "            /* Tooltip container */\n",
       "            .djtooltip {\n",
       "            }\n",
       "            /* Tooltip text */\n",
       "            .djtooltip .djtooltiptext {\n",
       "                visibility: hidden;\n",
       "                width: 120px;\n",
       "                background-color: black;\n",
       "                color: #fff;\n",
       "                text-align: center;\n",
       "                padding: 5px 0;\n",
       "                border-radius: 6px;\n",
       "                /* Position the tooltip text - see examples below! */\n",
       "                position: absolute;\n",
       "                z-index: 1;\n",
       "            }\n",
       "            #primary {\n",
       "                font-weight: bold;\n",
       "                color: black;\n",
       "            }\n",
       "\n",
       "            #nonprimary {\n",
       "                font-weight: normal;\n",
       "                color: white;\n",
       "            }\n",
       "\n",
       "            /* Show the tooltip text when you mouse over the tooltip container */\n",
       "            .djtooltip:hover .djtooltiptext {\n",
       "                visibility: visible;\n",
       "            }\n",
       "        </style>\n",
       "        \n",
       "        <b></b>\n",
       "            <div style=\"max-height:1000px;max-width:1500px;overflow:auto;\">\n",
       "            <table border=\"1\" class=\"Relation\">\n",
       "                <thead> <tr style=\"text-align: right;\"> <th> <div class=\"djtooltip\">\n",
       "                                <p id=\"primary\">resize_id</p>\n",
       "                                <span class=\"djtooltiptext\">resizing method</span>\n",
       "                            </div></th><th><div class=\"djtooltip\">\n",
       "                                <p id=\"nonprimary\">resize_type</p>\n",
       "                                <span class=\"djtooltiptext\">resize type</span>\n",
       "                            </div></th><th><div class=\"djtooltip\">\n",
       "                                <p id=\"nonprimary\">resize_ts</p>\n",
       "                                <span class=\"djtooltiptext\">automatic timestamp</span>\n",
       "                            </div> </th> </tr> </thead>\n",
       "                <tbody> <tr> <td>9b07f7038587b888bc1312559f48d163</td>\n",
       "<td>PilResize</td>\n",
       "<td>2023-05-26 11:34:07</td> </tr> </tbody>\n",
       "            </table>\n",
       "            \n",
       "            <p>Total: 1</p></div>\n",
       "            "
      ],
      "text/plain": [
       "*resize_id     resize_type    resize_ts     \n",
       "+------------+ +------------+ +------------+\n",
       "9b07f7038587b8 PilResize      2023-05-26 11:\n",
       " (Total: 1)"
      ]
     },
     "execution_count": 14,
     "metadata": {},
     "output_type": "execute_result"
    }
   ],
   "source": [
    "# We'll use that identifier to load the resizing method\n",
    "\n",
    "from foundation.utility.resize import Resize\n",
    "\n",
    "resize = Resize & {\"resize_id\": resize_id}\n",
    "resize"
   ]
  },
  {
   "cell_type": "code",
   "execution_count": 15,
   "id": "06dc528a-bbe4-4140-af65-3d72db3306ea",
   "metadata": {
    "tags": []
   },
   "outputs": [],
   "source": [
    "# And we'll resize our video to the appropriate height and width for our model\n",
    "\n",
    "rvideo = resize.link.resize(video=video, height=height, width=width)"
   ]
  },
  {
   "cell_type": "code",
   "execution_count": 16,
   "id": "69f78de1-3474-4fb8-a8d6-1bfc41b0a3ec",
   "metadata": {
    "tags": []
   },
   "outputs": [],
   "source": [
    "# This is how to load the trained model using cuda (GPU)\n",
    "\n",
    "from foundation.fnn.model import NetworkModel\n",
    "from foundation.utils import use_cuda\n",
    "\n",
    "with use_cuda():\n",
    "    net = (NetworkModel & key).model"
   ]
  },
  {
   "cell_type": "code",
   "execution_count": 17,
   "id": "40449a0e-08a8-4fc8-ad97-67a6788f3073",
   "metadata": {
    "tags": []
   },
   "outputs": [],
   "source": [
    "# With the resized video, let's create a stimulus generator\n",
    "\n",
    "stimuli = rvideo.generate(period=period)"
   ]
  },
  {
   "cell_type": "code",
   "execution_count": 18,
   "id": "0deb9bab-5cbf-40b4-83dc-d914ee632fa3",
   "metadata": {
    "tags": []
   },
   "outputs": [
    {
     "name": "stderr",
     "output_type": "stream",
     "text": [
      "Video Frames: 100% 61/61 [00:01<00:00, 40.30it/s]\n"
     ]
    }
   ],
   "source": [
    "# And we'll feed that to our model, collecting responses in a list\n",
    "\n",
    "responses = []\n",
    "\n",
    "for r in net.generate_response(stimuli=stimuli):\n",
    "    \n",
    "    responses.append(r)"
   ]
  },
  {
   "cell_type": "code",
   "execution_count": 19,
   "id": "d4e7911c-8152-453b-b0f7-6ed7dccb863d",
   "metadata": {
    "tags": []
   },
   "outputs": [
    {
     "data": {
      "text/plain": [
       "(61, 8509)"
      ]
     },
     "execution_count": 19,
     "metadata": {},
     "output_type": "execute_result"
    }
   ],
   "source": [
    "# Let's stack those responses in a 2D matrix\n",
    "\n",
    "responses = np.stack(responses, axis=0)\n",
    "responses.shape"
   ]
  },
  {
   "cell_type": "code",
   "execution_count": 20,
   "id": "837d30f1-8b2d-46ff-9ade-2099134b4f87",
   "metadata": {
    "tags": []
   },
   "outputs": [],
   "source": [
    "# This is the shape of our matrix\n",
    "\n",
    "frames, units = responses.shape"
   ]
  },
  {
   "cell_type": "code",
   "execution_count": 21,
   "id": "b896025a-eba9-4f53-b494-da5b37ad9d3f",
   "metadata": {
    "tags": []
   },
   "outputs": [],
   "source": [
    "# Since we have the number of frames, the sampling period and offset, \n",
    "# we know the timing of the response\n",
    "\n",
    "response_times = np.arange(frames) * period + offset"
   ]
  },
  {
   "cell_type": "code",
   "execution_count": 22,
   "id": "050cfc47-9272-4f80-a759-11bc06acf2e7",
   "metadata": {
    "tags": []
   },
   "outputs": [
    {
     "data": {
      "image/png": "[encoded data removed]",
      "text/plain": [
       "<Figure size 640x480 with 1 Axes>"
      ]
     },
     "metadata": {},
     "output_type": "display_data"
    }
   ],
   "source": [
    "# Let's plot the response for one of the units\n",
    "\n",
    "from matplotlib import pyplot as plt\n",
    "\n",
    "# Let's select and plot the first unit\n",
    "unit_repsonse = responses[:, 0]\n",
    "plt.plot(response_times, unit_repsonse, c='blue')\n",
    "\n",
    "# We'll also plot the onset times of each of stimulus frames\n",
    "for stim_time in video.times:\n",
    "    plt.axvline(stim_time, c='red')\n",
    "    \n",
    "plt.xlabel(\"Time (seconds)\")\n",
    "plt.ylabel(\"Response (au)\")\n",
    "plt.show()"
   ]
  }
 ],
 "metadata": {
  "kernelspec": {
   "display_name": "Python 3 (ipykernel)",
   "language": "python",
   "name": "python3"
  },
  "language_info": {
   "codemirror_mode": {
    "name": "ipython",
    "version": 3
   },
   "file_extension": ".py",
   "mimetype": "text/x-python",
   "name": "python",
   "nbconvert_exporter": "python",
   "pygments_lexer": "ipython3",
   "version": "3.8.16"
  }
 },
 "nbformat": 4,
 "nbformat_minor": 5
}
