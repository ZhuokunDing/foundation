{
 "cells": [
  {
   "cell_type": "markdown",
   "id": "4035e3ac-d302-4588-811b-fb07c9830a35",
   "metadata": {},
   "source": [
    "`foundation.scan` contains tables for processing meso or reso scans\n",
    "\n",
    "---\n",
    "\n",
    "To get the necessary rows into those tables for visual scans, use the `fill` method of `VisualScanExperiment` in `stimulus`"
   ]
  },
  {
   "cell_type": "code",
   "execution_count": 1,
   "id": "10cc145b-2608-4d8a-a39b-2a163b3702da",
   "metadata": {
    "tags": []
   },
   "outputs": [
    {
     "name": "stdout",
     "output_type": "stream",
     "text": [
      "Connecting ewang@at-database.ad.bcm.edu:3306\n"
     ]
    }
   ],
   "source": [
    "from foundation.scan.fill_scan import VisualScanExperiment"
   ]
  },
  {
   "cell_type": "code",
   "execution_count": 2,
   "id": "64fa382a-76f9-4a25-a1de-7176c251f754",
   "metadata": {
    "tags": []
   },
   "outputs": [
    {
     "data": {
      "text/plain": [
       "['animal_id', 'session', 'scan_idx', 'tracking_method']"
      ]
     },
     "execution_count": 2,
     "metadata": {},
     "output_type": "execute_result"
    }
   ],
   "source": [
    "# These are the primary key attributes for `VisualScanExperiment`.\n",
    "# The first 3 are scan identifiers, and the last is the pupil tracking method\n",
    "\n",
    "VisualScanExperiment.primary_key"
   ]
  },
  {
   "cell_type": "code",
   "execution_count": 3,
   "id": "69d254b7-a791-49ce-a2b4-9bd1b3d9c3d3",
   "metadata": {
    "tags": []
   },
   "outputs": [
    {
     "data": {
      "text/html": [
       "\n",
       "        \n",
       "        <style type=\"text/css\">\n",
       "            .Relation{\n",
       "                border-collapse:collapse;\n",
       "            }\n",
       "            .Relation th{\n",
       "                background: #A0A0A0; color: #ffffff; padding:4px; border:#f0e0e0 1px solid;\n",
       "                font-weight: normal; font-family: monospace; font-size: 100%;\n",
       "            }\n",
       "            .Relation td{\n",
       "                padding:4px; border:#f0e0e0 1px solid; font-size:100%;\n",
       "            }\n",
       "            .Relation tr:nth-child(odd){\n",
       "                background: #ffffff;\n",
       "            }\n",
       "            .Relation tr:nth-child(even){\n",
       "                background: #f3f1ff;\n",
       "            }\n",
       "            /* Tooltip container */\n",
       "            .djtooltip {\n",
       "            }\n",
       "            /* Tooltip text */\n",
       "            .djtooltip .djtooltiptext {\n",
       "                visibility: hidden;\n",
       "                width: 120px;\n",
       "                background-color: black;\n",
       "                color: #fff;\n",
       "                text-align: center;\n",
       "                padding: 5px 0;\n",
       "                border-radius: 6px;\n",
       "                /* Position the tooltip text - see examples below! */\n",
       "                position: absolute;\n",
       "                z-index: 1;\n",
       "            }\n",
       "            #primary {\n",
       "                font-weight: bold;\n",
       "                color: black;\n",
       "            }\n",
       "\n",
       "            #nonprimary {\n",
       "                font-weight: normal;\n",
       "                color: white;\n",
       "            }\n",
       "\n",
       "            /* Show the tooltip text when you mouse over the tooltip container */\n",
       "            .djtooltip:hover .djtooltiptext {\n",
       "                visibility: visible;\n",
       "            }\n",
       "        </style>\n",
       "        \n",
       "        \n",
       "            <div style=\"max-height:1000px;max-width:1500px;overflow:auto;\">\n",
       "            <table border=\"1\" class=\"Relation\">\n",
       "                <thead> <tr style=\"text-align: right;\"> <th> <div class=\"djtooltip\">\n",
       "                                <p id=\"primary\">animal_id</p>\n",
       "                                <span class=\"djtooltiptext\">id number</span>\n",
       "                            </div></th><th><div class=\"djtooltip\">\n",
       "                                <p id=\"primary\">session</p>\n",
       "                                <span class=\"djtooltiptext\">session index for the mouse</span>\n",
       "                            </div></th><th><div class=\"djtooltip\">\n",
       "                                <p id=\"primary\">scan_idx</p>\n",
       "                                <span class=\"djtooltiptext\">number of TIFF stack file</span>\n",
       "                            </div></th><th><div class=\"djtooltip\">\n",
       "                                <p id=\"primary\">tracking_method</p>\n",
       "                                <span class=\"djtooltiptext\">method used for pupil tracking</span>\n",
       "                            </div> </th> </tr> </thead>\n",
       "                <tbody> <tr> <td>27203</td>\n",
       "<td>4</td>\n",
       "<td>7</td>\n",
       "<td>2</td> </tr> </tbody>\n",
       "            </table>\n",
       "            \n",
       "            <p>Total: 1</p></div>\n",
       "            "
      ],
      "text/plain": [
       "*animal_id    *session    *scan_idx    *tracking_meth\n",
       "+-----------+ +---------+ +----------+ +------------+\n",
       "27203         4           7            2             \n",
       " (Total: 1)"
      ]
     },
     "execution_count": 3,
     "metadata": {},
     "output_type": "execute_result"
    }
   ],
   "source": [
    "# This is an example key that we would like to fill\n",
    "\n",
    "(VisualScanExperiment & 'animal_id=27203 and session=4 and scan_idx=7 and tracking_method=2').key"
   ]
  },
  {
   "cell_type": "code",
   "execution_count": 4,
   "id": "0de1de0e-3384-48ff-8902-4544b0041e75",
   "metadata": {
    "tags": []
   },
   "outputs": [
    {
     "name": "stderr",
     "output_type": "stream",
     "text": [
      "0it [00:00, ?it/s]\n",
      "0it [00:00, ?it/s]\n",
      "0it [00:00, ?it/s]\n"
     ]
    }
   ],
   "source": [
    "# Let's fill that key\n",
    "\n",
    "(VisualScanExperiment & 'animal_id=27203 and session=4 and scan_idx=7 and tracking_method=2').fill()"
   ]
  },
  {
   "cell_type": "markdown",
   "id": "b84c6dce-a719-4317-8a13-559806cff7a6",
   "metadata": {},
   "source": [
    "The last cell filled the tables `ScanExperiment`, `PupilTrace`, and `PupilNans` for our desired scan and tracking method\n",
    "\n",
    "---\n",
    "\n",
    "The following is a brief description of those tables"
   ]
  },
  {
   "cell_type": "code",
   "execution_count": 5,
   "id": "5b0c82b1-d047-42ac-8c50-f1c39a4bc277",
   "metadata": {
    "tags": []
   },
   "outputs": [],
   "source": [
    "from foundation.scan.experiment import Scan\n",
    "from foundation.scan.pupil import PupilTrace, PupilNans\n",
    "\n",
    "scan_key = {\"animal_id\": 27203, \"session\": 4, \"scan_idx\": 7, \"tracking_method\": 2}"
   ]
  },
  {
   "cell_type": "code",
   "execution_count": 6,
   "id": "04537d93-f274-4e43-9855-f0ba45c6ca61",
   "metadata": {
    "tags": []
   },
   "outputs": [
    {
     "data": {
      "text/html": [
       "\n",
       "        \n",
       "        <style type=\"text/css\">\n",
       "            .Relation{\n",
       "                border-collapse:collapse;\n",
       "            }\n",
       "            .Relation th{\n",
       "                background: #A0A0A0; color: #ffffff; padding:4px; border:#f0e0e0 1px solid;\n",
       "                font-weight: normal; font-family: monospace; font-size: 100%;\n",
       "            }\n",
       "            .Relation td{\n",
       "                padding:4px; border:#f0e0e0 1px solid; font-size:100%;\n",
       "            }\n",
       "            .Relation tr:nth-child(odd){\n",
       "                background: #ffffff;\n",
       "            }\n",
       "            .Relation tr:nth-child(even){\n",
       "                background: #f3f1ff;\n",
       "            }\n",
       "            /* Tooltip container */\n",
       "            .djtooltip {\n",
       "            }\n",
       "            /* Tooltip text */\n",
       "            .djtooltip .djtooltiptext {\n",
       "                visibility: hidden;\n",
       "                width: 120px;\n",
       "                background-color: black;\n",
       "                color: #fff;\n",
       "                text-align: center;\n",
       "                padding: 5px 0;\n",
       "                border-radius: 6px;\n",
       "                /* Position the tooltip text - see examples below! */\n",
       "                position: absolute;\n",
       "                z-index: 1;\n",
       "            }\n",
       "            #primary {\n",
       "                font-weight: bold;\n",
       "                color: black;\n",
       "            }\n",
       "\n",
       "            #nonprimary {\n",
       "                font-weight: normal;\n",
       "                color: white;\n",
       "            }\n",
       "\n",
       "            /* Show the tooltip text when you mouse over the tooltip container */\n",
       "            .djtooltip:hover .djtooltiptext {\n",
       "                visibility: visible;\n",
       "            }\n",
       "        </style>\n",
       "        \n",
       "        <b></b>\n",
       "            <div style=\"max-height:1000px;max-width:1500px;overflow:auto;\">\n",
       "            <table border=\"1\" class=\"Relation\">\n",
       "                <thead> <tr style=\"text-align: right;\"> <th> <div class=\"djtooltip\">\n",
       "                                <p id=\"primary\">animal_id</p>\n",
       "                                <span class=\"djtooltiptext\">id number</span>\n",
       "                            </div></th><th><div class=\"djtooltip\">\n",
       "                                <p id=\"primary\">session</p>\n",
       "                                <span class=\"djtooltiptext\">session index for the mouse</span>\n",
       "                            </div></th><th><div class=\"djtooltip\">\n",
       "                                <p id=\"primary\">scan_idx</p>\n",
       "                                <span class=\"djtooltiptext\">number of TIFF stack file</span>\n",
       "                            </div></th><th><div class=\"djtooltip\">\n",
       "                                <p id=\"nonprimary\">scan_times</p>\n",
       "                                <span class=\"djtooltiptext\">scan trace times on the stimulus clock</span>\n",
       "                            </div></th><th><div class=\"djtooltip\">\n",
       "                                <p id=\"nonprimary\">eye_times</p>\n",
       "                                <span class=\"djtooltiptext\">eye trace times on the stimulus clock</span>\n",
       "                            </div></th><th><div class=\"djtooltip\">\n",
       "                                <p id=\"nonprimary\">treadmill_times</p>\n",
       "                                <span class=\"djtooltiptext\">treadmill trace times on the stimulus clock</span>\n",
       "                            </div> </th> </tr> </thead>\n",
       "                <tbody> <tr> <td>27203</td>\n",
       "<td>4</td>\n",
       "<td>7</td>\n",
       "<td>=BLOB=</td>\n",
       "<td>=BLOB=</td>\n",
       "<td>=BLOB=</td> </tr> </tbody>\n",
       "            </table>\n",
       "            \n",
       "            <p>Total: 1</p></div>\n",
       "            "
      ],
      "text/plain": [
       "*animal_id    *session    *scan_idx    scan_times eye_times  treadmill_\n",
       "+-----------+ +---------+ +----------+ +--------+ +--------+ +--------+\n",
       "27203         4           7            =BLOB=     =BLOB=     =BLOB=    \n",
       " (Total: 1)"
      ]
     },
     "execution_count": 6,
     "metadata": {},
     "output_type": "execute_result"
    }
   ],
   "source": [
    "# `Scan` stores the times of scan volumes, eye recordings, and treadmill traces\n",
    "\n",
    "Scan & scan_key"
   ]
  },
  {
   "cell_type": "code",
   "execution_count": 7,
   "id": "9f46d7d2-06ef-443f-a7dc-f6beb751375d",
   "metadata": {
    "tags": []
   },
   "outputs": [
    {
     "data": {
      "text/html": [
       "\n",
       "        \n",
       "        <style type=\"text/css\">\n",
       "            .Relation{\n",
       "                border-collapse:collapse;\n",
       "            }\n",
       "            .Relation th{\n",
       "                background: #A0A0A0; color: #ffffff; padding:4px; border:#f0e0e0 1px solid;\n",
       "                font-weight: normal; font-family: monospace; font-size: 100%;\n",
       "            }\n",
       "            .Relation td{\n",
       "                padding:4px; border:#f0e0e0 1px solid; font-size:100%;\n",
       "            }\n",
       "            .Relation tr:nth-child(odd){\n",
       "                background: #ffffff;\n",
       "            }\n",
       "            .Relation tr:nth-child(even){\n",
       "                background: #f3f1ff;\n",
       "            }\n",
       "            /* Tooltip container */\n",
       "            .djtooltip {\n",
       "            }\n",
       "            /* Tooltip text */\n",
       "            .djtooltip .djtooltiptext {\n",
       "                visibility: hidden;\n",
       "                width: 120px;\n",
       "                background-color: black;\n",
       "                color: #fff;\n",
       "                text-align: center;\n",
       "                padding: 5px 0;\n",
       "                border-radius: 6px;\n",
       "                /* Position the tooltip text - see examples below! */\n",
       "                position: absolute;\n",
       "                z-index: 1;\n",
       "            }\n",
       "            #primary {\n",
       "                font-weight: bold;\n",
       "                color: black;\n",
       "            }\n",
       "\n",
       "            #nonprimary {\n",
       "                font-weight: normal;\n",
       "                color: white;\n",
       "            }\n",
       "\n",
       "            /* Show the tooltip text when you mouse over the tooltip container */\n",
       "            .djtooltip:hover .djtooltiptext {\n",
       "                visibility: visible;\n",
       "            }\n",
       "        </style>\n",
       "        \n",
       "        <b></b>\n",
       "            <div style=\"max-height:1000px;max-width:1500px;overflow:auto;\">\n",
       "            <table border=\"1\" class=\"Relation\">\n",
       "                <thead> <tr style=\"text-align: right;\"> <th> <div class=\"djtooltip\">\n",
       "                                <p id=\"primary\">animal_id</p>\n",
       "                                <span class=\"djtooltiptext\">id number</span>\n",
       "                            </div></th><th><div class=\"djtooltip\">\n",
       "                                <p id=\"primary\">session</p>\n",
       "                                <span class=\"djtooltiptext\">session index for the mouse</span>\n",
       "                            </div></th><th><div class=\"djtooltip\">\n",
       "                                <p id=\"primary\">scan_idx</p>\n",
       "                                <span class=\"djtooltiptext\">number of TIFF stack file</span>\n",
       "                            </div></th><th><div class=\"djtooltip\">\n",
       "                                <p id=\"primary\">tracking_method</p>\n",
       "                                <span class=\"djtooltiptext\">method used for pupil tracking</span>\n",
       "                            </div></th><th><div class=\"djtooltip\">\n",
       "                                <p id=\"primary\">pupil_type</p>\n",
       "                                <span class=\"djtooltiptext\">pupil data type</span>\n",
       "                            </div></th><th><div class=\"djtooltip\">\n",
       "                                <p id=\"nonprimary\">pupil_trace</p>\n",
       "                                <span class=\"djtooltiptext\">pupil trace</span>\n",
       "                            </div> </th> </tr> </thead>\n",
       "                <tbody> <tr> <td>27203</td>\n",
       "<td>4</td>\n",
       "<td>7</td>\n",
       "<td>2</td>\n",
       "<td>radius</td>\n",
       "<td>=BLOB=</td></tr><tr><td>27203</td>\n",
       "<td>4</td>\n",
       "<td>7</td>\n",
       "<td>2</td>\n",
       "<td>center_x</td>\n",
       "<td>=BLOB=</td></tr><tr><td>27203</td>\n",
       "<td>4</td>\n",
       "<td>7</td>\n",
       "<td>2</td>\n",
       "<td>center_y</td>\n",
       "<td>=BLOB=</td> </tr> </tbody>\n",
       "            </table>\n",
       "            \n",
       "            <p>Total: 3</p></div>\n",
       "            "
      ],
      "text/plain": [
       "*animal_id    *session    *scan_idx    *tracking_meth *pupil_type    pupil_trac\n",
       "+-----------+ +---------+ +----------+ +------------+ +------------+ +--------+\n",
       "27203         4           7            2              radius         =BLOB=    \n",
       "27203         4           7            2              center_x       =BLOB=    \n",
       "27203         4           7            2              center_y       =BLOB=    \n",
       " (Total: 3)"
      ]
     },
     "execution_count": 7,
     "metadata": {},
     "output_type": "execute_result"
    }
   ],
   "source": [
    "# `PupilTrace` stores the center x/y, and radius of the fitted pupil circle\n",
    "\n",
    "PupilTrace & scan_key"
   ]
  },
  {
   "cell_type": "code",
   "execution_count": 8,
   "id": "33687164-e216-483b-a348-f4ab516a2d2b",
   "metadata": {
    "tags": []
   },
   "outputs": [
    {
     "data": {
      "text/html": [
       "\n",
       "        \n",
       "        <style type=\"text/css\">\n",
       "            .Relation{\n",
       "                border-collapse:collapse;\n",
       "            }\n",
       "            .Relation th{\n",
       "                background: #A0A0A0; color: #ffffff; padding:4px; border:#f0e0e0 1px solid;\n",
       "                font-weight: normal; font-family: monospace; font-size: 100%;\n",
       "            }\n",
       "            .Relation td{\n",
       "                padding:4px; border:#f0e0e0 1px solid; font-size:100%;\n",
       "            }\n",
       "            .Relation tr:nth-child(odd){\n",
       "                background: #ffffff;\n",
       "            }\n",
       "            .Relation tr:nth-child(even){\n",
       "                background: #f3f1ff;\n",
       "            }\n",
       "            /* Tooltip container */\n",
       "            .djtooltip {\n",
       "            }\n",
       "            /* Tooltip text */\n",
       "            .djtooltip .djtooltiptext {\n",
       "                visibility: hidden;\n",
       "                width: 120px;\n",
       "                background-color: black;\n",
       "                color: #fff;\n",
       "                text-align: center;\n",
       "                padding: 5px 0;\n",
       "                border-radius: 6px;\n",
       "                /* Position the tooltip text - see examples below! */\n",
       "                position: absolute;\n",
       "                z-index: 1;\n",
       "            }\n",
       "            #primary {\n",
       "                font-weight: bold;\n",
       "                color: black;\n",
       "            }\n",
       "\n",
       "            #nonprimary {\n",
       "                font-weight: normal;\n",
       "                color: white;\n",
       "            }\n",
       "\n",
       "            /* Show the tooltip text when you mouse over the tooltip container */\n",
       "            .djtooltip:hover .djtooltiptext {\n",
       "                visibility: visible;\n",
       "            }\n",
       "        </style>\n",
       "        \n",
       "        <b></b>\n",
       "            <div style=\"max-height:1000px;max-width:1500px;overflow:auto;\">\n",
       "            <table border=\"1\" class=\"Relation\">\n",
       "                <thead> <tr style=\"text-align: right;\"> <th> <div class=\"djtooltip\">\n",
       "                                <p id=\"primary\">animal_id</p>\n",
       "                                <span class=\"djtooltiptext\">id number</span>\n",
       "                            </div></th><th><div class=\"djtooltip\">\n",
       "                                <p id=\"primary\">session</p>\n",
       "                                <span class=\"djtooltiptext\">session index for the mouse</span>\n",
       "                            </div></th><th><div class=\"djtooltip\">\n",
       "                                <p id=\"primary\">scan_idx</p>\n",
       "                                <span class=\"djtooltiptext\">number of TIFF stack file</span>\n",
       "                            </div></th><th><div class=\"djtooltip\">\n",
       "                                <p id=\"primary\">tracking_method</p>\n",
       "                                <span class=\"djtooltiptext\">method used for pupil tracking</span>\n",
       "                            </div></th><th><div class=\"djtooltip\">\n",
       "                                <p id=\"primary\">trial_idx</p>\n",
       "                                <span class=\"djtooltiptext\">trial index within sessions</span>\n",
       "                            </div></th><th><div class=\"djtooltip\">\n",
       "                                <p id=\"nonprimary\">nans</p>\n",
       "                                <span class=\"djtooltiptext\">fraction of nans</span>\n",
       "                            </div> </th> </tr> </thead>\n",
       "                <tbody> <tr> <td>27203</td>\n",
       "<td>4</td>\n",
       "<td>7</td>\n",
       "<td>2</td>\n",
       "<td>0</td>\n",
       "<td>0.0</td></tr><tr><td>27203</td>\n",
       "<td>4</td>\n",
       "<td>7</td>\n",
       "<td>2</td>\n",
       "<td>1</td>\n",
       "<td>0.0</td></tr><tr><td>27203</td>\n",
       "<td>4</td>\n",
       "<td>7</td>\n",
       "<td>2</td>\n",
       "<td>2</td>\n",
       "<td>0.0</td></tr><tr><td>27203</td>\n",
       "<td>4</td>\n",
       "<td>7</td>\n",
       "<td>2</td>\n",
       "<td>3</td>\n",
       "<td>0.0</td></tr><tr><td>27203</td>\n",
       "<td>4</td>\n",
       "<td>7</td>\n",
       "<td>2</td>\n",
       "<td>4</td>\n",
       "<td>0.0</td></tr><tr><td>27203</td>\n",
       "<td>4</td>\n",
       "<td>7</td>\n",
       "<td>2</td>\n",
       "<td>5</td>\n",
       "<td>0.00925926</td></tr><tr><td>27203</td>\n",
       "<td>4</td>\n",
       "<td>7</td>\n",
       "<td>2</td>\n",
       "<td>6</td>\n",
       "<td>0.0</td></tr><tr><td>27203</td>\n",
       "<td>4</td>\n",
       "<td>7</td>\n",
       "<td>2</td>\n",
       "<td>7</td>\n",
       "<td>0.0</td></tr><tr><td>27203</td>\n",
       "<td>4</td>\n",
       "<td>7</td>\n",
       "<td>2</td>\n",
       "<td>8</td>\n",
       "<td>0.0</td></tr><tr><td>27203</td>\n",
       "<td>4</td>\n",
       "<td>7</td>\n",
       "<td>2</td>\n",
       "<td>9</td>\n",
       "<td>0.0</td></tr><tr><td>27203</td>\n",
       "<td>4</td>\n",
       "<td>7</td>\n",
       "<td>2</td>\n",
       "<td>10</td>\n",
       "<td>0.0</td></tr><tr><td>27203</td>\n",
       "<td>4</td>\n",
       "<td>7</td>\n",
       "<td>2</td>\n",
       "<td>11</td>\n",
       "<td>0.0</td> </tr> </tbody>\n",
       "            </table>\n",
       "            <p>...</p>\n",
       "            <p>Total: 1180</p></div>\n",
       "            "
      ],
      "text/plain": [
       "*animal_id    *session    *scan_idx    *tracking_meth *trial_idx    nans          \n",
       "+-----------+ +---------+ +----------+ +------------+ +-----------+ +------------+\n",
       "27203         4           7            2              0             0.0           \n",
       "27203         4           7            2              1             0.0           \n",
       "27203         4           7            2              2             0.0           \n",
       "27203         4           7            2              3             0.0           \n",
       "27203         4           7            2              4             0.0           \n",
       "27203         4           7            2              5             0.00925926    \n",
       "27203         4           7            2              6             0.0           \n",
       "27203         4           7            2              7             0.0           \n",
       "27203         4           7            2              8             0.0           \n",
       "27203         4           7            2              9             0.0           \n",
       "27203         4           7            2              10            0.0           \n",
       "27203         4           7            2              11            0.0           \n",
       "   ...\n",
       " (Total: 1180)"
      ]
     },
     "execution_count": 8,
     "metadata": {},
     "output_type": "execute_result"
    }
   ],
   "source": [
    "# `PupilNans` stores the fraction of pupil trace NaNs for each trial of the scan\n",
    "\n",
    "PupilNans & scan_key"
   ]
  },
  {
   "cell_type": "markdown",
   "id": "45a2d90d-a7e7-4c5d-9d53-18a4eefbe09c",
   "metadata": {},
   "source": [
    "The purpose of these 3 tables is for housing data that is easily retrievable by the downstream `recording` pipeline. \n",
    "\n",
    "For example, `PupilNans` allows easy downstream filtering of scan trials via the quality control metric of NaN pupil values.\n",
    "\n",
    "If there are additional tables that are required for quality control in the future, `foundation.scan` would be a good place to define them."
   ]
  }
 ],
 "metadata": {
  "kernelspec": {
   "display_name": "Python 3 (ipykernel)",
   "language": "python",
   "name": "python3"
  },
  "language_info": {
   "codemirror_mode": {
    "name": "ipython",
    "version": 3
   },
   "file_extension": ".py",
   "mimetype": "text/x-python",
   "name": "python",
   "nbconvert_exporter": "python",
   "pygments_lexer": "ipython3",
   "version": "3.8.16"
  }
 },
 "nbformat": 4,
 "nbformat_minor": 5
}
